{
  "cells": [
    {
      "cell_type": "markdown",
      "id": "18d9bced",
      "metadata": {
        "id": "18d9bced"
      },
      "source": [
        "# 📘 Fraud Detection in E-commerce - ML Project"
      ]
    },
    {
      "cell_type": "code",
      "source": [
        "# 📌 Step 1: Import Libraries\n",
        "import pandas as pd\n",
        "import numpy as np\n",
        "import matplotlib.pyplot as plt\n",
        "from sklearn.preprocessing import LabelEncoder, StandardScaler\n",
        "from sklearn.ensemble import IsolationForest\n",
        "from sklearn.metrics import classification_report, confusion_matrix, roc_auc_score\n",
        "from sklearn.model_selection import train_test_split\n",
        "from xgboost import XGBClassifier\n",
        "from google.colab import files\n",
        "import io\n",
        "import warnings\n",
        "warnings.filterwarnings(\"ignore\")\n",
        "\n",
        "# 📌 Step 2: Upload Dataset\n",
        "uploaded = files.upload()\n",
        "file_name = list(uploaded.keys())[0]\n",
        "df = pd.read_csv(io.BytesIO(uploaded[file_name]))\n",
        "\n",
        "# 📌 Step 3: Preprocessing\n",
        "if 'PDate' in df.columns:\n",
        "    df['PDate'] = pd.to_datetime(df['PDate'], errors='coerce')\n",
        "    df['Day'] = df['PDate'].dt.day\n",
        "    df['Month'] = df['PDate'].dt.month\n",
        "    df['Weekday'] = df['PDate'].dt.weekday\n",
        "    df['Is_Weekend'] = df['Weekday'].apply(lambda x: 1 if x >= 5 else 0)\n",
        "    df.drop(columns=['PDate'], inplace=True)\n",
        "\n",
        "df['Amount'].fillna(df['Amount'].median(), inplace=True)\n",
        "df['Amount_Log'] = np.log1p(df['Amount'])\n",
        "\n",
        "for col in ['Order_ID', 'SKU', 'ASIN']:\n",
        "    if col in df.columns:\n",
        "        df.drop(columns=col, inplace=True)\n",
        "\n",
        "df['currency'].fillna('Unknown', inplace=True)\n",
        "df.dropna(inplace=True)\n",
        "\n",
        "# Encode categorical features\n",
        "cat_cols = df.select_dtypes(include='object').columns\n",
        "le = LabelEncoder()\n",
        "for col in cat_cols:\n",
        "    df[col] = le.fit_transform(df[col])\n",
        "\n",
        "# 📌 Step 4: Feature Scaling\n",
        "X = df.drop('Label', axis=1)\n",
        "y = df['Label']\n",
        "scaler = StandardScaler()\n",
        "X_scaled = scaler.fit_transform(X)\n",
        "\n",
        "# 📌 Step 5: Isolation Forest\n",
        "iso_model = IsolationForest(n_estimators=300, contamination=0.4, random_state=42)\n",
        "iso_model.fit(X_scaled)\n",
        "\n",
        "# Predict anomalies\n",
        "y_pred_iso = iso_model.predict(X_scaled)\n",
        "df['anomaly_label'] = np.where(y_pred_iso == -1, 1, 0)\n",
        "df['anomaly_score'] = iso_model.decision_function(X_scaled)\n",
        "\n",
        "# 📌 Step 6: Evaluate Isolation Forest Alone\n",
        "print(\"📊 Isolation Forest Report:\")\n",
        "print(classification_report(y, df['anomaly_label']))\n",
        "print(\"Confusion Matrix:\\n\", confusion_matrix(y, df['anomaly_label']))\n",
        "\n",
        "# 📌 Step 7: Train-Test Split for Supervised Model (with anomaly features)\n",
        "features = df.drop('Label', axis=1)\n",
        "labels = df['Label']\n",
        "\n",
        "X_train, X_test, y_train, y_test = train_test_split(\n",
        "    features, labels, test_size=0.2, stratify=labels, random_state=42\n",
        ")\n",
        "\n",
        "# 📌 Step 8: Train XGBoost on Anomaly-Enhanced Features\n",
        "xgb = XGBClassifier(n_estimators=500, max_depth=8, learning_rate=0.05,\n",
        "                    use_label_encoder=False, eval_metric='logloss', random_state=42)\n",
        "xgb.fit(X_train, y_train)\n",
        "y_pred_xgb = xgb.predict(X_test)\n",
        "\n",
        "# 📌 Step 9: Evaluate XGBoost\n",
        "print(\"\\n📊 XGBoost on Anomaly-Enhanced Features:\")\n",
        "print(classification_report(y_test, y_pred_xgb))\n",
        "print(\"Confusion Matrix:\\n\", confusion_matrix(y_test, y_pred_xgb))\n",
        "print(\"ROC AUC Score:\", roc_auc_score(y_test, y_pred_xgb))\n"
      ],
      "metadata": {
        "colab": {
          "base_uri": "https://localhost:8080/",
          "height": 559
        },
        "id": "MANYvF9WtXwV",
        "outputId": "e70e35dc-0e8c-476e-f8ba-ee5b79df69d3"
      },
      "id": "MANYvF9WtXwV",
      "execution_count": 10,
      "outputs": [
        {
          "output_type": "display_data",
          "data": {
            "text/plain": [
              "<IPython.core.display.HTML object>"
            ],
            "text/html": [
              "\n",
              "     <input type=\"file\" id=\"files-215a4431-c247-4cd2-9392-2d71c330171e\" name=\"files[]\" multiple disabled\n",
              "        style=\"border:none\" />\n",
              "     <output id=\"result-215a4431-c247-4cd2-9392-2d71c330171e\">\n",
              "      Upload widget is only available when the cell has been executed in the\n",
              "      current browser session. Please rerun this cell to enable.\n",
              "      </output>\n",
              "      <script>// Copyright 2017 Google LLC\n",
              "//\n",
              "// Licensed under the Apache License, Version 2.0 (the \"License\");\n",
              "// you may not use this file except in compliance with the License.\n",
              "// You may obtain a copy of the License at\n",
              "//\n",
              "//      http://www.apache.org/licenses/LICENSE-2.0\n",
              "//\n",
              "// Unless required by applicable law or agreed to in writing, software\n",
              "// distributed under the License is distributed on an \"AS IS\" BASIS,\n",
              "// WITHOUT WARRANTIES OR CONDITIONS OF ANY KIND, either express or implied.\n",
              "// See the License for the specific language governing permissions and\n",
              "// limitations under the License.\n",
              "\n",
              "/**\n",
              " * @fileoverview Helpers for google.colab Python module.\n",
              " */\n",
              "(function(scope) {\n",
              "function span(text, styleAttributes = {}) {\n",
              "  const element = document.createElement('span');\n",
              "  element.textContent = text;\n",
              "  for (const key of Object.keys(styleAttributes)) {\n",
              "    element.style[key] = styleAttributes[key];\n",
              "  }\n",
              "  return element;\n",
              "}\n",
              "\n",
              "// Max number of bytes which will be uploaded at a time.\n",
              "const MAX_PAYLOAD_SIZE = 100 * 1024;\n",
              "\n",
              "function _uploadFiles(inputId, outputId) {\n",
              "  const steps = uploadFilesStep(inputId, outputId);\n",
              "  const outputElement = document.getElementById(outputId);\n",
              "  // Cache steps on the outputElement to make it available for the next call\n",
              "  // to uploadFilesContinue from Python.\n",
              "  outputElement.steps = steps;\n",
              "\n",
              "  return _uploadFilesContinue(outputId);\n",
              "}\n",
              "\n",
              "// This is roughly an async generator (not supported in the browser yet),\n",
              "// where there are multiple asynchronous steps and the Python side is going\n",
              "// to poll for completion of each step.\n",
              "// This uses a Promise to block the python side on completion of each step,\n",
              "// then passes the result of the previous step as the input to the next step.\n",
              "function _uploadFilesContinue(outputId) {\n",
              "  const outputElement = document.getElementById(outputId);\n",
              "  const steps = outputElement.steps;\n",
              "\n",
              "  const next = steps.next(outputElement.lastPromiseValue);\n",
              "  return Promise.resolve(next.value.promise).then((value) => {\n",
              "    // Cache the last promise value to make it available to the next\n",
              "    // step of the generator.\n",
              "    outputElement.lastPromiseValue = value;\n",
              "    return next.value.response;\n",
              "  });\n",
              "}\n",
              "\n",
              "/**\n",
              " * Generator function which is called between each async step of the upload\n",
              " * process.\n",
              " * @param {string} inputId Element ID of the input file picker element.\n",
              " * @param {string} outputId Element ID of the output display.\n",
              " * @return {!Iterable<!Object>} Iterable of next steps.\n",
              " */\n",
              "function* uploadFilesStep(inputId, outputId) {\n",
              "  const inputElement = document.getElementById(inputId);\n",
              "  inputElement.disabled = false;\n",
              "\n",
              "  const outputElement = document.getElementById(outputId);\n",
              "  outputElement.innerHTML = '';\n",
              "\n",
              "  const pickedPromise = new Promise((resolve) => {\n",
              "    inputElement.addEventListener('change', (e) => {\n",
              "      resolve(e.target.files);\n",
              "    });\n",
              "  });\n",
              "\n",
              "  const cancel = document.createElement('button');\n",
              "  inputElement.parentElement.appendChild(cancel);\n",
              "  cancel.textContent = 'Cancel upload';\n",
              "  const cancelPromise = new Promise((resolve) => {\n",
              "    cancel.onclick = () => {\n",
              "      resolve(null);\n",
              "    };\n",
              "  });\n",
              "\n",
              "  // Wait for the user to pick the files.\n",
              "  const files = yield {\n",
              "    promise: Promise.race([pickedPromise, cancelPromise]),\n",
              "    response: {\n",
              "      action: 'starting',\n",
              "    }\n",
              "  };\n",
              "\n",
              "  cancel.remove();\n",
              "\n",
              "  // Disable the input element since further picks are not allowed.\n",
              "  inputElement.disabled = true;\n",
              "\n",
              "  if (!files) {\n",
              "    return {\n",
              "      response: {\n",
              "        action: 'complete',\n",
              "      }\n",
              "    };\n",
              "  }\n",
              "\n",
              "  for (const file of files) {\n",
              "    const li = document.createElement('li');\n",
              "    li.append(span(file.name, {fontWeight: 'bold'}));\n",
              "    li.append(span(\n",
              "        `(${file.type || 'n/a'}) - ${file.size} bytes, ` +\n",
              "        `last modified: ${\n",
              "            file.lastModifiedDate ? file.lastModifiedDate.toLocaleDateString() :\n",
              "                                    'n/a'} - `));\n",
              "    const percent = span('0% done');\n",
              "    li.appendChild(percent);\n",
              "\n",
              "    outputElement.appendChild(li);\n",
              "\n",
              "    const fileDataPromise = new Promise((resolve) => {\n",
              "      const reader = new FileReader();\n",
              "      reader.onload = (e) => {\n",
              "        resolve(e.target.result);\n",
              "      };\n",
              "      reader.readAsArrayBuffer(file);\n",
              "    });\n",
              "    // Wait for the data to be ready.\n",
              "    let fileData = yield {\n",
              "      promise: fileDataPromise,\n",
              "      response: {\n",
              "        action: 'continue',\n",
              "      }\n",
              "    };\n",
              "\n",
              "    // Use a chunked sending to avoid message size limits. See b/62115660.\n",
              "    let position = 0;\n",
              "    do {\n",
              "      const length = Math.min(fileData.byteLength - position, MAX_PAYLOAD_SIZE);\n",
              "      const chunk = new Uint8Array(fileData, position, length);\n",
              "      position += length;\n",
              "\n",
              "      const base64 = btoa(String.fromCharCode.apply(null, chunk));\n",
              "      yield {\n",
              "        response: {\n",
              "          action: 'append',\n",
              "          file: file.name,\n",
              "          data: base64,\n",
              "        },\n",
              "      };\n",
              "\n",
              "      let percentDone = fileData.byteLength === 0 ?\n",
              "          100 :\n",
              "          Math.round((position / fileData.byteLength) * 100);\n",
              "      percent.textContent = `${percentDone}% done`;\n",
              "\n",
              "    } while (position < fileData.byteLength);\n",
              "  }\n",
              "\n",
              "  // All done.\n",
              "  yield {\n",
              "    response: {\n",
              "      action: 'complete',\n",
              "    }\n",
              "  };\n",
              "}\n",
              "\n",
              "scope.google = scope.google || {};\n",
              "scope.google.colab = scope.google.colab || {};\n",
              "scope.google.colab._files = {\n",
              "  _uploadFiles,\n",
              "  _uploadFilesContinue,\n",
              "};\n",
              "})(self);\n",
              "</script> "
            ]
          },
          "metadata": {}
        },
        {
          "output_type": "stream",
          "name": "stdout",
          "text": [
            "Saving Datasets.csv to Datasets (13).csv\n",
            "📊 Isolation Forest Report:\n",
            "              precision    recall  f1-score   support\n",
            "\n",
            "           0       0.53      0.60      0.56      1360\n",
            "           1       0.48      0.40      0.44      1244\n",
            "\n",
            "    accuracy                           0.51      2604\n",
            "   macro avg       0.50      0.50      0.50      2604\n",
            "weighted avg       0.51      0.51      0.50      2604\n",
            "\n",
            "Confusion Matrix:\n",
            " [[821 539]\n",
            " [741 503]]\n",
            "\n",
            "📊 XGBoost on Anomaly-Enhanced Features:\n",
            "              precision    recall  f1-score   support\n",
            "\n",
            "           0       0.51      0.54      0.52       272\n",
            "           1       0.46      0.43      0.45       249\n",
            "\n",
            "    accuracy                           0.49       521\n",
            "   macro avg       0.49      0.49      0.48       521\n",
            "weighted avg       0.49      0.49      0.49       521\n",
            "\n",
            "Confusion Matrix:\n",
            " [[146 126]\n",
            " [141 108]]\n",
            "ROC AUC Score: 0.48524982282069457\n"
          ]
        }
      ]
    },
    {
      "cell_type": "code",
      "source": [
        "# Create anomaly feature\n",
        "df['anomaly_score'] = iso_model.decision_function(X_scaled)\n",
        "df['anomaly_label'] = y_pred  # From Isolation Forest\n",
        "\n",
        "# Now train XGBoost on X + anomaly features\n",
        "from xgboost import XGBClassifier\n",
        "from sklearn.model_selection import train_test_split\n",
        "\n",
        "features = df.drop('Label', axis=1)\n",
        "labels = df['Label']\n",
        "\n",
        "X_train, X_test, y_train, y_test = train_test_split(\n",
        "    features, labels, test_size=0.2, random_state=42, stratify=labels\n",
        ")\n",
        "\n",
        "xgb = XGBClassifier(n_estimators=500, max_depth=8, learning_rate=0.05, use_label_encoder=False, eval_metric='logloss')\n",
        "xgb.fit(X_train, y_train)\n",
        "y_pred = xgb.predict(X_test)\n",
        "\n",
        "from sklearn.metrics import classification_report, confusion_matrix, roc_auc_score\n",
        "print(\"📊 XGBoost on Anomaly-Enhanced Features:\")\n",
        "print(classification_report(y_test, y_pred))\n",
        "print(\"ROC AUC:\", roc_auc_score(y_test, y_pred))\n"
      ],
      "metadata": {
        "colab": {
          "base_uri": "https://localhost:8080/"
        },
        "id": "g2DvchHIucwF",
        "outputId": "7df5ed59-8b76-4cc5-ec54-342eed06b0b7"
      },
      "id": "g2DvchHIucwF",
      "execution_count": 9,
      "outputs": [
        {
          "output_type": "stream",
          "name": "stdout",
          "text": [
            "📊 XGBoost on Anomaly-Enhanced Features:\n",
            "              precision    recall  f1-score   support\n",
            "\n",
            "           0       0.51      0.55      0.53       272\n",
            "           1       0.46      0.42      0.44       249\n",
            "\n",
            "    accuracy                           0.49       521\n",
            "   macro avg       0.49      0.49      0.49       521\n",
            "weighted avg       0.49      0.49      0.49       521\n",
            "\n",
            "ROC AUC: 0.486578667611623\n"
          ]
        }
      ]
    },
    {
      "cell_type": "code",
      "source": [
        "print(df.columns.tolist())\n"
      ],
      "metadata": {
        "colab": {
          "base_uri": "https://localhost:8080/"
        },
        "id": "qS79VU9C9YaK",
        "outputId": "5d3c08f7-28b5-4bb5-9995-ffe141a2c4d2"
      },
      "id": "qS79VU9C9YaK",
      "execution_count": 12,
      "outputs": [
        {
          "output_type": "stream",
          "name": "stdout",
          "text": [
            "['Status', 'Fulfilment', 'Sales_Channel ', 'ship_service_level', 'Style', 'Category', 'PSize', 'Qty', 'currency', 'Amount', 'payment_by', 'ship_city', 'ship_state', 'ship_postal-code', 'ship_country', 'Label', 'Day', 'Month', 'Weekday', 'Is_Weekend', 'Amount_Log', 'anomaly_label', 'anomaly_score']\n"
          ]
        }
      ]
    },
    {
      "cell_type": "code",
      "source": [
        "# Add predictions to df (optional: copy X_test first)\n",
        "df_result = X_test.copy()\n",
        "df_result['Prediction'] = y_pred\n"
      ],
      "metadata": {
        "id": "uA19Lvlj9gsP"
      },
      "id": "uA19Lvlj9gsP",
      "execution_count": 13,
      "outputs": []
    },
    {
      "cell_type": "code",
      "source": [
        "from sklearn.ensemble import IsolationForest\n",
        "\n",
        "# Step 1: Select numeric features only\n",
        "feature_cols = df.select_dtypes(include=['int64', 'float64']).columns.tolist()\n",
        "\n",
        "# Step 2: Train Isolation Forest (or re-train)\n",
        "model = IsolationForest(contamination=0.1, random_state=42)\n",
        "model.fit(df[feature_cols])\n",
        "\n",
        "# Step 3: Add scores and predictions\n",
        "df['Fraud_Score'] = model.decision_function(df[feature_cols])\n",
        "df['Prediction'] = df['Fraud_Score'].apply(lambda x: 'Fraud' if x < -0.05 else 'Normal')\n"
      ],
      "metadata": {
        "id": "AQ22fp9Z9yTE"
      },
      "id": "AQ22fp9Z9yTE",
      "execution_count": 16,
      "outputs": []
    },
    {
      "cell_type": "code",
      "source": [
        "df['Fraud_Score'] = model.decision_function(df[feature_cols])\n",
        "df['Prediction'] = df['Fraud_Score'].apply(lambda x: 'Fraud' if x < -0.05 else 'Normal')\n"
      ],
      "metadata": {
        "id": "DnLQg0GL9nO4"
      },
      "id": "DnLQg0GL9nO4",
      "execution_count": 17,
      "outputs": []
    },
    {
      "cell_type": "code",
      "source": [
        "sns.countplot(data=df, x='Risk_Level', palette='coolwarm')\n"
      ],
      "metadata": {
        "colab": {
          "base_uri": "https://localhost:8080/",
          "height": 475
        },
        "id": "E6vOs_1X-Tbh",
        "outputId": "3da6ce90-1b28-40cc-aaaa-2ebf3c4c8896"
      },
      "id": "E6vOs_1X-Tbh",
      "execution_count": 21,
      "outputs": [
        {
          "output_type": "execute_result",
          "data": {
            "text/plain": [
              "<Axes: xlabel='Risk_Level', ylabel='count'>"
            ]
          },
          "metadata": {},
          "execution_count": 21
        },
        {
          "output_type": "display_data",
          "data": {
            "text/plain": [
              "<Figure size 640x480 with 1 Axes>"
            ],
            "image/png": "[encoded data removed]"
          },
          "metadata": {}
        }
      ]
    },
    {
      "cell_type": "code",
      "source": [
        "sns.histplot(data=df, x='Fraud_Score', hue='Prediction', bins=30, kde=True)\n"
      ],
      "metadata": {
        "colab": {
          "base_uri": "https://localhost:8080/",
          "height": 475
        },
        "id": "9rHwFJnk-b0o",
        "outputId": "58049ad0-7c5e-4db9-fa65-4301f06e3431"
      },
      "id": "9rHwFJnk-b0o",
      "execution_count": 24,
      "outputs": [
        {
          "output_type": "execute_result",
          "data": {
            "text/plain": [
              "<Axes: xlabel='Fraud_Score', ylabel='Count'>"
            ]
          },
          "metadata": {},
          "execution_count": 24
        },
        {
          "output_type": "display_data",
          "data": {
            "text/plain": [
              "<Figure size 640x480 with 1 Axes>"
            ],
            "image/png": "[encoded data removed]"
          },
          "metadata": {}
        }
      ]
    },
    {
      "cell_type": "code",
      "source": [
        "sns.boxplot(data=df, x='Risk_Level', y='Fraud_Score', palette='pastel')\n"
      ],
      "metadata": {
        "colab": {
          "base_uri": "https://localhost:8080/",
          "height": 475
        },
        "id": "Ogy54BTS-mKD",
        "outputId": "0091f12b-5a0a-42d4-a584-60a31635a754"
      },
      "id": "Ogy54BTS-mKD",
      "execution_count": 25,
      "outputs": [
        {
          "output_type": "execute_result",
          "data": {
            "text/plain": [
              "<Axes: xlabel='Risk_Level', ylabel='Fraud_Score'>"
            ]
          },
          "metadata": {},
          "execution_count": 25
        },
        {
          "output_type": "display_data",
          "data": {
            "text/plain": [
              "<Figure size 640x480 with 1 Axes>"
            ],
            "image/png": "[encoded data removed]"
          },
          "metadata": {}
        }
      ]
    },
    {
      "cell_type": "code",
      "source": [
        "from sklearn.metrics import confusion_matrix\n",
        "import seaborn as sns\n",
        "\n",
        "cm = confusion_matrix(y_test, y_pred)\n",
        "sns.heatmap(cm, annot=True, fmt='d', cmap='Blues')\n",
        "plt.title('Confusion Matrix')\n",
        "plt.xlabel('Predicted')\n",
        "plt.ylabel('Actual')\n",
        "plt.show()\n"
      ],
      "metadata": {
        "colab": {
          "base_uri": "https://localhost:8080/",
          "height": 480
        },
        "id": "TOTgzNYo-q4h",
        "outputId": "26bdb79d-1211-4ce3-d5db-64a531d0fa67"
      },
      "id": "TOTgzNYo-q4h",
      "execution_count": 26,
      "outputs": [
        {
          "output_type": "display_data",
          "data": {
            "text/plain": [
              "<Figure size 640x480 with 2 Axes>"
            ],
            "image/png": "[encoded data removed]"
          },
          "metadata": {}
        }
      ]
    }
  ],
  "metadata": {
    "colab": {
      "provenance": [],
      "toc_visible": true
    },
    "language_info": {
      "name": "python"
    },
    "kernelspec": {
      "name": "python3",
      "display_name": "Python 3"
    }
  },
  "nbformat": 4,
  "nbformat_minor": 5
}